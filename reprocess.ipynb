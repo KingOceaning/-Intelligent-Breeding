{
 "cells": [
  {
   "cell_type": "code",
   "execution_count": 1,
   "metadata": {},
   "outputs": [],
   "source": [
    "import json\n",
    "import numpy as np\n",
    "import os"
   ]
  },
  {
   "cell_type": "code",
   "execution_count": 1,
   "metadata": {},
   "outputs": [
    {
     "name": "stdout",
     "output_type": "stream",
     "text": [
      "['9_143800744.json', '3_224548317.json', '5_215525767.json', '1_135401720.json', '9_12797477.json', '8_25355951.json', '7_169445814.json', '8_88472086.json', '6_147252734.json', '7_165838904.json', '10_53548632.json']\n"
     ]
    }
   ],
   "source": [
    "f_l = os.listdir('./sequence/')\n",
    "print(f_l)\n"
   ]
  },
  {
   "cell_type": "code",
   "execution_count": 14,
   "metadata": {},
   "outputs": [],
   "source": [
    "for k in f_l:\n",
    "    with open('./sequence/' + k, 'r', encoding='utf-8') as f:\n",
    "        sequences = json.load(f)\n",
    "    for i in range(100):\n",
    "        total = (60*300*4 + 1000) / 50\n",
    "        for j in range(len(sequences[i])):\n",
    "            if j == 0:\n",
    "                total -= 1000 / 50\n",
    "                sequences[i][j]['Reward'] = total\n",
    "            else:\n",
    "                total -= sequences[i][j-1]['Action'][0] * sequences[i][j-1]['Action'][1] // 50\n",
    "                sequences[i][j]['Reward'] = total\n",
    "    with open('./sequence_pos/' + k, 'w', encoding='utf-8') as f:\n",
    "        json.dump(sequences, f, ensure_ascii=False)"
   ]
  },
  {
   "cell_type": "code",
   "execution_count": 15,
   "metadata": {},
   "outputs": [],
   "source": [
    "import os\n",
    "import json\n",
    "f_l = os.listdir('./sequence/')\n",
    "for k in f_l:\n",
    "    with open('./sequence_pos/' + k, 'r', encoding='utf-8') as f:\n",
    "        sequences = json.load(f)\n",
    "    for i in range(100):\n",
    "        total = sequences[i][len(sequences[i])-1]['Reward']\n",
    "        for j in range(len(sequences[i])-2, -1, -1):\n",
    "            sequences[i][j]['Reward'] = total\n",
    "    with open('./sequence_pos/' + k, 'w', encoding='utf-8') as f:\n",
    "        json.dump(sequences, f, ensure_ascii=False)"
   ]
  },
  {
   "cell_type": "code",
   "execution_count": 5,
   "metadata": {},
   "outputs": [
    {
     "data": {
      "text/plain": [
       "'3_3450008'"
      ]
     },
     "execution_count": 5,
     "metadata": {},
     "output_type": "execute_result"
    }
   ],
   "source": [
    "import pandas as pd\n",
    "gene = pd.read_csv('./data/Corn_Genetic_Map.map', delimiter='\\t')\n",
    "markers = gene['marker'].to_list()\n",
    "with open('./markers.json', 'w', encoding='utf-8') as f:\n",
    "    json.dump(markers, f, ensure_ascii=False)\n",
    "with open('./markers.json', 'r', encoding='utf-8') as f:\n",
    "    markers = json.load(f)\n",
    "target = np.random.choice(markers)\n",
    "target"
   ]
  },
  {
   "cell_type": "code",
   "execution_count": 10,
   "metadata": {},
   "outputs": [
    {
     "data": {
      "text/html": [
       "<div>\n",
       "<style scoped>\n",
       "    .dataframe tbody tr th:only-of-type {\n",
       "        vertical-align: middle;\n",
       "    }\n",
       "\n",
       "    .dataframe tbody tr th {\n",
       "        vertical-align: top;\n",
       "    }\n",
       "\n",
       "    .dataframe thead th {\n",
       "        text-align: right;\n",
       "    }\n",
       "</style>\n",
       "<table border=\"1\" class=\"dataframe\">\n",
       "  <thead>\n",
       "    <tr style=\"text-align: right;\">\n",
       "      <th></th>\n",
       "      <th>samples</th>\n",
       "      <th>Start</th>\n",
       "      <th>End</th>\n",
       "      <th>Length(left)</th>\n",
       "      <th>Length(right)</th>\n",
       "      <th>PRPG</th>\n",
       "      <th>Pl</th>\n",
       "    </tr>\n",
       "  </thead>\n",
       "  <tbody>\n",
       "    <tr>\n",
       "      <th>409</th>\n",
       "      <td>BC1F1_820</td>\n",
       "      <td>168490501</td>\n",
       "      <td>217668263</td>\n",
       "      <td>47.04</td>\n",
       "      <td>2.14</td>\n",
       "      <td>0.897</td>\n",
       "      <td>0.2</td>\n",
       "    </tr>\n",
       "    <tr>\n",
       "      <th>341</th>\n",
       "      <td>BC1F1_693</td>\n",
       "      <td>3091146</td>\n",
       "      <td>217668263</td>\n",
       "      <td>212.43</td>\n",
       "      <td>2.14</td>\n",
       "      <td>0.884</td>\n",
       "      <td>0.2</td>\n",
       "    </tr>\n",
       "    <tr>\n",
       "      <th>55</th>\n",
       "      <td>BC1F1_119</td>\n",
       "      <td>35669254</td>\n",
       "      <td>217668263</td>\n",
       "      <td>179.86</td>\n",
       "      <td>2.14</td>\n",
       "      <td>0.879</td>\n",
       "      <td>0.2</td>\n",
       "    </tr>\n",
       "    <tr>\n",
       "      <th>207</th>\n",
       "      <td>BC1F1_430</td>\n",
       "      <td>206894340</td>\n",
       "      <td>217668263</td>\n",
       "      <td>8.63</td>\n",
       "      <td>2.14</td>\n",
       "      <td>0.872</td>\n",
       "      <td>0.2</td>\n",
       "    </tr>\n",
       "    <tr>\n",
       "      <th>240</th>\n",
       "      <td>BC1F1_498</td>\n",
       "      <td>74644539</td>\n",
       "      <td>217668263</td>\n",
       "      <td>140.88</td>\n",
       "      <td>2.14</td>\n",
       "      <td>0.867</td>\n",
       "      <td>0.2</td>\n",
       "    </tr>\n",
       "    <tr>\n",
       "      <th>...</th>\n",
       "      <td>...</td>\n",
       "      <td>...</td>\n",
       "      <td>...</td>\n",
       "      <td>...</td>\n",
       "      <td>...</td>\n",
       "      <td>...</td>\n",
       "      <td>...</td>\n",
       "    </tr>\n",
       "    <tr>\n",
       "      <th>218</th>\n",
       "      <td>BC1F1_454</td>\n",
       "      <td>199430720</td>\n",
       "      <td>217668263</td>\n",
       "      <td>16.10</td>\n",
       "      <td>2.14</td>\n",
       "      <td>0.621</td>\n",
       "      <td>0.2</td>\n",
       "    </tr>\n",
       "    <tr>\n",
       "      <th>374</th>\n",
       "      <td>BC1F1_756</td>\n",
       "      <td>206894340</td>\n",
       "      <td>217668263</td>\n",
       "      <td>8.63</td>\n",
       "      <td>2.14</td>\n",
       "      <td>0.614</td>\n",
       "      <td>0.2</td>\n",
       "    </tr>\n",
       "    <tr>\n",
       "      <th>39</th>\n",
       "      <td>BC1F1_86</td>\n",
       "      <td>1526279</td>\n",
       "      <td>217668263</td>\n",
       "      <td>214.00</td>\n",
       "      <td>2.14</td>\n",
       "      <td>0.611</td>\n",
       "      <td>0.2</td>\n",
       "    </tr>\n",
       "    <tr>\n",
       "      <th>158</th>\n",
       "      <td>BC1F1_324</td>\n",
       "      <td>212731495</td>\n",
       "      <td>217668263</td>\n",
       "      <td>2.79</td>\n",
       "      <td>2.14</td>\n",
       "      <td>0.593</td>\n",
       "      <td>1.0</td>\n",
       "    </tr>\n",
       "    <tr>\n",
       "      <th>389</th>\n",
       "      <td>BC1F1_789</td>\n",
       "      <td>3539158</td>\n",
       "      <td>217668263</td>\n",
       "      <td>211.99</td>\n",
       "      <td>2.14</td>\n",
       "      <td>0.590</td>\n",
       "      <td>0.2</td>\n",
       "    </tr>\n",
       "  </tbody>\n",
       "</table>\n",
       "<p>484 rows × 7 columns</p>\n",
       "</div>"
      ],
      "text/plain": [
       "       samples      Start        End  Length(left)  Length(right)   PRPG   Pl\n",
       "409  BC1F1_820  168490501  217668263         47.04           2.14  0.897  0.2\n",
       "341  BC1F1_693    3091146  217668263        212.43           2.14  0.884  0.2\n",
       "55   BC1F1_119   35669254  217668263        179.86           2.14  0.879  0.2\n",
       "207  BC1F1_430  206894340  217668263          8.63           2.14  0.872  0.2\n",
       "240  BC1F1_498   74644539  217668263        140.88           2.14  0.867  0.2\n",
       "..         ...        ...        ...           ...            ...    ...  ...\n",
       "218  BC1F1_454  199430720  217668263         16.10           2.14  0.621  0.2\n",
       "374  BC1F1_756  206894340  217668263          8.63           2.14  0.614  0.2\n",
       "39    BC1F1_86    1526279  217668263        214.00           2.14  0.611  0.2\n",
       "158  BC1F1_324  212731495  217668263          2.79           2.14  0.593  1.0\n",
       "389  BC1F1_789    3539158  217668263        211.99           2.14  0.590  0.2\n",
       "\n",
       "[484 rows x 7 columns]"
      ]
     },
     "execution_count": 10,
     "metadata": {},
     "output_type": "execute_result"
    }
   ],
   "source": [
    "samples = pd.read_csv('./BCres/BC1F1/BC1F1.samples', delimiter='\\t').sort_values(by='PRPG', ascending=False)\n",
    "samples.loc[samples['Length(left)'] < 5.25, 'Pl'] = 1.0\n",
    "samples.loc[samples['Length(left)'] >= 5.25, 'Pl'] = 0.2\n",
    "samples"
   ]
  },
  {
   "cell_type": "code",
   "execution_count": 17,
   "metadata": {},
   "outputs": [
    {
     "data": {
      "text/html": [
       "<div>\n",
       "<style scoped>\n",
       "    .dataframe tbody tr th:only-of-type {\n",
       "        vertical-align: middle;\n",
       "    }\n",
       "\n",
       "    .dataframe tbody tr th {\n",
       "        vertical-align: top;\n",
       "    }\n",
       "\n",
       "    .dataframe thead th {\n",
       "        text-align: right;\n",
       "    }\n",
       "</style>\n",
       "<table border=\"1\" class=\"dataframe\">\n",
       "  <thead>\n",
       "    <tr style=\"text-align: right;\">\n",
       "      <th></th>\n",
       "      <th>PRPG</th>\n",
       "      <th>Nt</th>\n",
       "      <th>pl</th>\n",
       "      <th>pr</th>\n",
       "      <th>nums</th>\n",
       "      <th>bc_nums</th>\n",
       "      <th>Reward</th>\n",
       "    </tr>\n",
       "  </thead>\n",
       "  <tbody>\n",
       "    <tr>\n",
       "      <th>0</th>\n",
       "      <td>0.75</td>\n",
       "      <td>2</td>\n",
       "      <td>0.1</td>\n",
       "      <td>0.2</td>\n",
       "      <td>45</td>\n",
       "      <td>150</td>\n",
       "      <td>150</td>\n",
       "    </tr>\n",
       "    <tr>\n",
       "      <th>1</th>\n",
       "      <td>0.75</td>\n",
       "      <td>2</td>\n",
       "      <td>0.1</td>\n",
       "      <td>0.2</td>\n",
       "      <td>45</td>\n",
       "      <td>150</td>\n",
       "      <td>150</td>\n",
       "    </tr>\n",
       "  </tbody>\n",
       "</table>\n",
       "</div>"
      ],
      "text/plain": [
       "   PRPG Nt   pl   pr nums bc_nums Reward\n",
       "0  0.75  2  0.1  0.2   45     150    150\n",
       "1  0.75  2  0.1  0.2   45     150    150"
      ]
     },
     "execution_count": 17,
     "metadata": {},
     "output_type": "execute_result"
    }
   ],
   "source": [
    "record = pd.DataFrame(columns=['PRPG', 'Nt', 'pl', 'pr', 'nums', 'bc_nums', 'Reward'])\n",
    "record.loc[0, :] = [0.75, 2, 0.1, 0.2, 45, 150] + [0.0]\n",
    "record.loc[1, :] = [0.75, 2, 0.1, 0.2, 45, 150] + [0.0]\n",
    "record.loc[:, 'Reward'] = 150\n",
    "record"
   ]
  }
 ],
 "metadata": {
  "kernelspec": {
   "display_name": "Python 3.9.15 ('crop')",
   "language": "python",
   "name": "python3"
  },
  "language_info": {
   "codemirror_mode": {
    "name": "ipython",
    "version": 3
   },
   "file_extension": ".py",
   "mimetype": "text/x-python",
   "name": "python",
   "nbconvert_exporter": "python",
   "pygments_lexer": "ipython3",
   "version": "3.9.15"
  },
  "orig_nbformat": 4,
  "vscode": {
   "interpreter": {
    "hash": "cde71bfb009788fd91c0fad76eb1f51facca62b1f10b40f1cd3837b25ceb93a0"
   }
  }
 },
 "nbformat": 4,
 "nbformat_minor": 2
}
